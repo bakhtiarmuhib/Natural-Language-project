{
 "cells": [
  {
   "cell_type": "markdown",
   "metadata": {},
   "source": [
    "# Importing Section"
   ]
  },
  {
   "cell_type": "code",
   "execution_count": 1,
   "metadata": {},
   "outputs": [],
   "source": [
    "import pandas_datareader as pdr\n",
    "import pandas as pd\n",
    "import matplotlib.pyplot as plt\n",
    "%matplotlib inline\n",
    "import numpy as np\n",
    "from sklearn.preprocessing import MinMaxScaler\n",
    "from sklearn.model_selection import train_test_split"
   ]
  },
  {
   "cell_type": "markdown",
   "metadata": {},
   "source": [
    "# Data Collection"
   ]
  },
  {
   "cell_type": "code",
   "execution_count": 2,
   "metadata": {},
   "outputs": [
    {
     "data": {
      "text/html": [
       "<div>\n",
       "<style scoped>\n",
       "    .dataframe tbody tr th:only-of-type {\n",
       "        vertical-align: middle;\n",
       "    }\n",
       "\n",
       "    .dataframe tbody tr th {\n",
       "        vertical-align: top;\n",
       "    }\n",
       "\n",
       "    .dataframe thead th {\n",
       "        text-align: right;\n",
       "    }\n",
       "</style>\n",
       "<table border=\"1\" class=\"dataframe\">\n",
       "  <thead>\n",
       "    <tr style=\"text-align: right;\">\n",
       "      <th></th>\n",
       "      <th>symbol</th>\n",
       "      <th>date</th>\n",
       "      <th>close</th>\n",
       "      <th>high</th>\n",
       "      <th>low</th>\n",
       "      <th>open</th>\n",
       "      <th>volume</th>\n",
       "      <th>adjClose</th>\n",
       "      <th>adjHigh</th>\n",
       "      <th>adjLow</th>\n",
       "      <th>adjOpen</th>\n",
       "      <th>adjVolume</th>\n",
       "      <th>divCash</th>\n",
       "      <th>splitFactor</th>\n",
       "    </tr>\n",
       "  </thead>\n",
       "  <tbody>\n",
       "    <tr>\n",
       "      <th>0</th>\n",
       "      <td>AAPL</td>\n",
       "      <td>2016-04-08 00:00:00+00:00</td>\n",
       "      <td>108.66</td>\n",
       "      <td>109.77</td>\n",
       "      <td>108.17</td>\n",
       "      <td>108.91</td>\n",
       "      <td>23581740</td>\n",
       "      <td>25.262009</td>\n",
       "      <td>25.520069</td>\n",
       "      <td>25.148090</td>\n",
       "      <td>25.320130</td>\n",
       "      <td>94326960</td>\n",
       "      <td>0.0</td>\n",
       "      <td>1.0</td>\n",
       "    </tr>\n",
       "    <tr>\n",
       "      <th>1</th>\n",
       "      <td>AAPL</td>\n",
       "      <td>2016-04-11 00:00:00+00:00</td>\n",
       "      <td>109.02</td>\n",
       "      <td>110.61</td>\n",
       "      <td>108.83</td>\n",
       "      <td>108.97</td>\n",
       "      <td>29407518</td>\n",
       "      <td>25.345704</td>\n",
       "      <td>25.715358</td>\n",
       "      <td>25.301531</td>\n",
       "      <td>25.334080</td>\n",
       "      <td>117630072</td>\n",
       "      <td>0.0</td>\n",
       "      <td>1.0</td>\n",
       "    </tr>\n",
       "    <tr>\n",
       "      <th>2</th>\n",
       "      <td>AAPL</td>\n",
       "      <td>2016-04-12 00:00:00+00:00</td>\n",
       "      <td>110.44</td>\n",
       "      <td>110.50</td>\n",
       "      <td>108.66</td>\n",
       "      <td>109.34</td>\n",
       "      <td>27232325</td>\n",
       "      <td>25.675835</td>\n",
       "      <td>25.689784</td>\n",
       "      <td>25.262009</td>\n",
       "      <td>25.420100</td>\n",
       "      <td>108929300</td>\n",
       "      <td>0.0</td>\n",
       "      <td>1.0</td>\n",
       "    </tr>\n",
       "    <tr>\n",
       "      <th>3</th>\n",
       "      <td>AAPL</td>\n",
       "      <td>2016-04-13 00:00:00+00:00</td>\n",
       "      <td>112.04</td>\n",
       "      <td>112.34</td>\n",
       "      <td>110.80</td>\n",
       "      <td>110.80</td>\n",
       "      <td>33257316</td>\n",
       "      <td>26.047814</td>\n",
       "      <td>26.117560</td>\n",
       "      <td>25.759530</td>\n",
       "      <td>25.759530</td>\n",
       "      <td>133029264</td>\n",
       "      <td>0.0</td>\n",
       "      <td>1.0</td>\n",
       "    </tr>\n",
       "    <tr>\n",
       "      <th>4</th>\n",
       "      <td>AAPL</td>\n",
       "      <td>2016-04-14 00:00:00+00:00</td>\n",
       "      <td>112.10</td>\n",
       "      <td>112.39</td>\n",
       "      <td>111.33</td>\n",
       "      <td>111.62</td>\n",
       "      <td>25473923</td>\n",
       "      <td>26.061763</td>\n",
       "      <td>26.129184</td>\n",
       "      <td>25.882748</td>\n",
       "      <td>25.950169</td>\n",
       "      <td>101895692</td>\n",
       "      <td>0.0</td>\n",
       "      <td>1.0</td>\n",
       "    </tr>\n",
       "  </tbody>\n",
       "</table>\n",
       "</div>"
      ],
      "text/plain": [
       "  symbol                       date   close    high     low    open    volume  \\\n",
       "0   AAPL  2016-04-08 00:00:00+00:00  108.66  109.77  108.17  108.91  23581740   \n",
       "1   AAPL  2016-04-11 00:00:00+00:00  109.02  110.61  108.83  108.97  29407518   \n",
       "2   AAPL  2016-04-12 00:00:00+00:00  110.44  110.50  108.66  109.34  27232325   \n",
       "3   AAPL  2016-04-13 00:00:00+00:00  112.04  112.34  110.80  110.80  33257316   \n",
       "4   AAPL  2016-04-14 00:00:00+00:00  112.10  112.39  111.33  111.62  25473923   \n",
       "\n",
       "    adjClose    adjHigh     adjLow    adjOpen  adjVolume  divCash  splitFactor  \n",
       "0  25.262009  25.520069  25.148090  25.320130   94326960      0.0          1.0  \n",
       "1  25.345704  25.715358  25.301531  25.334080  117630072      0.0          1.0  \n",
       "2  25.675835  25.689784  25.262009  25.420100  108929300      0.0          1.0  \n",
       "3  26.047814  26.117560  25.759530  25.759530  133029264      0.0          1.0  \n",
       "4  26.061763  26.129184  25.882748  25.950169  101895692      0.0          1.0  "
      ]
     },
     "execution_count": 2,
     "metadata": {},
     "output_type": "execute_result"
    }
   ],
   "source": [
    "key=\"93f5e1b69f385b968e79168869023d3f2b7ac184\"\n",
    "df = pdr.get_data_tiingo('AAPL', api_key=key)\n",
    "df.to_csv('AAPL.csv')\n",
    "df=pd.read_csv('AAPL.csv')\n",
    "df.head()"
   ]
  },
  {
   "cell_type": "code",
   "execution_count": 3,
   "metadata": {},
   "outputs": [
    {
     "data": {
      "text/html": [
       "<div>\n",
       "<style scoped>\n",
       "    .dataframe tbody tr th:only-of-type {\n",
       "        vertical-align: middle;\n",
       "    }\n",
       "\n",
       "    .dataframe tbody tr th {\n",
       "        vertical-align: top;\n",
       "    }\n",
       "\n",
       "    .dataframe thead th {\n",
       "        text-align: right;\n",
       "    }\n",
       "</style>\n",
       "<table border=\"1\" class=\"dataframe\">\n",
       "  <thead>\n",
       "    <tr style=\"text-align: right;\">\n",
       "      <th></th>\n",
       "      <th>symbol</th>\n",
       "      <th>date</th>\n",
       "      <th>close</th>\n",
       "      <th>high</th>\n",
       "      <th>low</th>\n",
       "      <th>open</th>\n",
       "      <th>volume</th>\n",
       "      <th>adjClose</th>\n",
       "      <th>adjHigh</th>\n",
       "      <th>adjLow</th>\n",
       "      <th>adjOpen</th>\n",
       "      <th>adjVolume</th>\n",
       "      <th>divCash</th>\n",
       "      <th>splitFactor</th>\n",
       "    </tr>\n",
       "  </thead>\n",
       "  <tbody>\n",
       "    <tr>\n",
       "      <th>1252</th>\n",
       "      <td>AAPL</td>\n",
       "      <td>2021-03-30 00:00:00+00:00</td>\n",
       "      <td>119.90</td>\n",
       "      <td>120.4031</td>\n",
       "      <td>118.86</td>\n",
       "      <td>120.11</td>\n",
       "      <td>85671919</td>\n",
       "      <td>119.90</td>\n",
       "      <td>120.4031</td>\n",
       "      <td>118.86</td>\n",
       "      <td>120.11</td>\n",
       "      <td>85671919</td>\n",
       "      <td>0.0</td>\n",
       "      <td>1.0</td>\n",
       "    </tr>\n",
       "    <tr>\n",
       "      <th>1253</th>\n",
       "      <td>AAPL</td>\n",
       "      <td>2021-03-31 00:00:00+00:00</td>\n",
       "      <td>122.15</td>\n",
       "      <td>123.5200</td>\n",
       "      <td>121.15</td>\n",
       "      <td>121.65</td>\n",
       "      <td>118323826</td>\n",
       "      <td>122.15</td>\n",
       "      <td>123.5200</td>\n",
       "      <td>121.15</td>\n",
       "      <td>121.65</td>\n",
       "      <td>118323826</td>\n",
       "      <td>0.0</td>\n",
       "      <td>1.0</td>\n",
       "    </tr>\n",
       "    <tr>\n",
       "      <th>1254</th>\n",
       "      <td>AAPL</td>\n",
       "      <td>2021-04-01 00:00:00+00:00</td>\n",
       "      <td>123.00</td>\n",
       "      <td>124.1800</td>\n",
       "      <td>122.49</td>\n",
       "      <td>123.66</td>\n",
       "      <td>75089134</td>\n",
       "      <td>123.00</td>\n",
       "      <td>124.1800</td>\n",
       "      <td>122.49</td>\n",
       "      <td>123.66</td>\n",
       "      <td>75089134</td>\n",
       "      <td>0.0</td>\n",
       "      <td>1.0</td>\n",
       "    </tr>\n",
       "    <tr>\n",
       "      <th>1255</th>\n",
       "      <td>AAPL</td>\n",
       "      <td>2021-04-05 00:00:00+00:00</td>\n",
       "      <td>125.90</td>\n",
       "      <td>126.1601</td>\n",
       "      <td>123.07</td>\n",
       "      <td>123.87</td>\n",
       "      <td>88651175</td>\n",
       "      <td>125.90</td>\n",
       "      <td>126.1601</td>\n",
       "      <td>123.07</td>\n",
       "      <td>123.87</td>\n",
       "      <td>88651175</td>\n",
       "      <td>0.0</td>\n",
       "      <td>1.0</td>\n",
       "    </tr>\n",
       "    <tr>\n",
       "      <th>1256</th>\n",
       "      <td>AAPL</td>\n",
       "      <td>2021-04-06 00:00:00+00:00</td>\n",
       "      <td>126.21</td>\n",
       "      <td>127.1300</td>\n",
       "      <td>125.65</td>\n",
       "      <td>126.50</td>\n",
       "      <td>80171253</td>\n",
       "      <td>126.21</td>\n",
       "      <td>127.1300</td>\n",
       "      <td>125.65</td>\n",
       "      <td>126.50</td>\n",
       "      <td>80171253</td>\n",
       "      <td>0.0</td>\n",
       "      <td>1.0</td>\n",
       "    </tr>\n",
       "  </tbody>\n",
       "</table>\n",
       "</div>"
      ],
      "text/plain": [
       "     symbol                       date   close      high     low    open  \\\n",
       "1252   AAPL  2021-03-30 00:00:00+00:00  119.90  120.4031  118.86  120.11   \n",
       "1253   AAPL  2021-03-31 00:00:00+00:00  122.15  123.5200  121.15  121.65   \n",
       "1254   AAPL  2021-04-01 00:00:00+00:00  123.00  124.1800  122.49  123.66   \n",
       "1255   AAPL  2021-04-05 00:00:00+00:00  125.90  126.1601  123.07  123.87   \n",
       "1256   AAPL  2021-04-06 00:00:00+00:00  126.21  127.1300  125.65  126.50   \n",
       "\n",
       "         volume  adjClose   adjHigh  adjLow  adjOpen  adjVolume  divCash  \\\n",
       "1252   85671919    119.90  120.4031  118.86   120.11   85671919      0.0   \n",
       "1253  118323826    122.15  123.5200  121.15   121.65  118323826      0.0   \n",
       "1254   75089134    123.00  124.1800  122.49   123.66   75089134      0.0   \n",
       "1255   88651175    125.90  126.1601  123.07   123.87   88651175      0.0   \n",
       "1256   80171253    126.21  127.1300  125.65   126.50   80171253      0.0   \n",
       "\n",
       "      splitFactor  \n",
       "1252          1.0  \n",
       "1253          1.0  \n",
       "1254          1.0  \n",
       "1255          1.0  \n",
       "1256          1.0  "
      ]
     },
     "execution_count": 3,
     "metadata": {},
     "output_type": "execute_result"
    }
   ],
   "source": [
    "df.tail()"
   ]
  },
  {
   "cell_type": "code",
   "execution_count": 4,
   "metadata": {},
   "outputs": [],
   "source": [
    "df1=df['close']"
   ]
  },
  {
   "cell_type": "code",
   "execution_count": 5,
   "metadata": {},
   "outputs": [
    {
     "data": {
      "text/plain": [
       "0       108.66\n",
       "1       109.02\n",
       "2       110.44\n",
       "3       112.04\n",
       "4       112.10\n",
       "         ...  \n",
       "1252    119.90\n",
       "1253    122.15\n",
       "1254    123.00\n",
       "1255    125.90\n",
       "1256    126.21\n",
       "Name: close, Length: 1257, dtype: float64"
      ]
     },
     "execution_count": 5,
     "metadata": {},
     "output_type": "execute_result"
    }
   ],
   "source": [
    "df1"
   ]
  },
  {
   "cell_type": "code",
   "execution_count": 6,
   "metadata": {},
   "outputs": [
    {
     "data": {
      "text/plain": [
       "[<matplotlib.lines.Line2D at 0x7f9c73a813d0>]"
      ]
     },
     "execution_count": 6,
     "metadata": {},
     "output_type": "execute_result"
    },
    {
     "data": {
      "image/png": "[encoded data removed]",
      "text/plain": [
       "<Figure size 432x288 with 1 Axes>"
      ]
     },
     "metadata": {
      "needs_background": "light"
     },
     "output_type": "display_data"
    }
   ],
   "source": [
    "%matplotlib inline\n",
    "plt.plot(df1)"
   ]
  },
  {
   "cell_type": "markdown",
   "metadata": {},
   "source": [
    "# Data preprocessing"
   ]
  },
  {
   "cell_type": "code",
   "execution_count": 7,
   "metadata": {},
   "outputs": [],
   "source": [
    "scaler=MinMaxScaler(feature_range=(0,1))\n",
    "df1=scaler.fit_transform(np.array(df1).reshape(-1,1))"
   ]
  },
  {
   "cell_type": "code",
   "execution_count": 8,
   "metadata": {},
   "outputs": [
    {
     "data": {
      "text/plain": [
       "array([[0.04406494],\n",
       "       [0.04493085],\n",
       "       [0.04834636],\n",
       "       ...,\n",
       "       [0.07855683],\n",
       "       [0.08553217],\n",
       "       [0.08627781]])"
      ]
     },
     "execution_count": 8,
     "metadata": {},
     "output_type": "execute_result"
    }
   ],
   "source": [
    "df1"
   ]
  },
  {
   "cell_type": "code",
   "execution_count": 9,
   "metadata": {},
   "outputs": [],
   "source": [
    "X_train, X_test = train_test_split(df1, test_size=0.33, random_state=42)"
   ]
  },
  {
   "cell_type": "code",
   "execution_count": 10,
   "metadata": {},
   "outputs": [
    {
     "data": {
      "text/plain": [
       "(842, 1)"
      ]
     },
     "execution_count": 10,
     "metadata": {},
     "output_type": "execute_result"
    }
   ],
   "source": [
    "X_train.shape"
   ]
  },
  {
   "cell_type": "code",
   "execution_count": 11,
   "metadata": {},
   "outputs": [
    {
     "data": {
      "text/plain": [
       "(415, 1)"
      ]
     },
     "execution_count": 11,
     "metadata": {},
     "output_type": "execute_result"
    }
   ],
   "source": [
    "X_test.shape"
   ]
  },
  {
   "cell_type": "code",
   "execution_count": null,
   "metadata": {},
   "outputs": [],
   "source": []
  }
 ],
 "metadata": {
  "kernelspec": {
   "display_name": "Python 3",
   "language": "python",
   "name": "python3"
  },
  "language_info": {
   "codemirror_mode": {
    "name": "ipython",
    "version": 3
   },
   "file_extension": ".py",
   "mimetype": "text/x-python",
   "name": "python",
   "nbconvert_exporter": "python",
   "pygments_lexer": "ipython3",
   "version": "3.8.3"
  }
 },
 "nbformat": 4,
 "nbformat_minor": 4
}
