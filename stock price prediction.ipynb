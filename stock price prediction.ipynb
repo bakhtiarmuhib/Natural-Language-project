{
 "cells": [
  {
   "cell_type": "markdown",
   "metadata": {},
   "source": [
    "# Importing Section"
   ]
  },
  {
   "cell_type": "code",
   "execution_count": 1,
   "metadata": {},
   "outputs": [],
   "source": [
    "import pandas_datareader as pdr\n",
    "import pandas as pd\n",
    "import matplotlib.pyplot as plt\n",
    "%matplotlib inline\n",
    "import numpy as np\n",
    "from sklearn.preprocessing import MinMaxScaler\n",
    "from sklearn.model_selection import train_test_split"
   ]
  },
  {
   "cell_type": "markdown",
   "metadata": {},
   "source": [
    "# Data Collection"
   ]
  },
  {
   "cell_type": "code",
   "execution_count": 2,
   "metadata": {},
   "outputs": [
    {
     "data": {
      "text/html": [
       "<div>\n",
       "<style scoped>\n",
       "    .dataframe tbody tr th:only-of-type {\n",
       "        vertical-align: middle;\n",
       "    }\n",
       "\n",
       "    .dataframe tbody tr th {\n",
       "        vertical-align: top;\n",
       "    }\n",
       "\n",
       "    .dataframe thead th {\n",
       "        text-align: right;\n",
       "    }\n",
       "</style>\n",
       "<table border=\"1\" class=\"dataframe\">\n",
       "  <thead>\n",
       "    <tr style=\"text-align: right;\">\n",
       "      <th></th>\n",
       "      <th>symbol</th>\n",
       "      <th>date</th>\n",
       "      <th>close</th>\n",
       "      <th>high</th>\n",
       "      <th>low</th>\n",
       "      <th>open</th>\n",
       "      <th>volume</th>\n",
       "      <th>adjClose</th>\n",
       "      <th>adjHigh</th>\n",
       "      <th>adjLow</th>\n",
       "      <th>adjOpen</th>\n",
       "      <th>adjVolume</th>\n",
       "      <th>divCash</th>\n",
       "      <th>splitFactor</th>\n",
       "    </tr>\n",
       "  </thead>\n",
       "  <tbody>\n",
       "    <tr>\n",
       "      <th>0</th>\n",
       "      <td>AAPL</td>\n",
       "      <td>2016-04-08 00:00:00+00:00</td>\n",
       "      <td>108.66</td>\n",
       "      <td>109.77</td>\n",
       "      <td>108.17</td>\n",
       "      <td>108.91</td>\n",
       "      <td>23581740</td>\n",
       "      <td>25.262009</td>\n",
       "      <td>25.520069</td>\n",
       "      <td>25.148090</td>\n",
       "      <td>25.320130</td>\n",
       "      <td>94326960</td>\n",
       "      <td>0.0</td>\n",
       "      <td>1.0</td>\n",
       "    </tr>\n",
       "    <tr>\n",
       "      <th>1</th>\n",
       "      <td>AAPL</td>\n",
       "      <td>2016-04-11 00:00:00+00:00</td>\n",
       "      <td>109.02</td>\n",
       "      <td>110.61</td>\n",
       "      <td>108.83</td>\n",
       "      <td>108.97</td>\n",
       "      <td>29407518</td>\n",
       "      <td>25.345704</td>\n",
       "      <td>25.715358</td>\n",
       "      <td>25.301531</td>\n",
       "      <td>25.334080</td>\n",
       "      <td>117630072</td>\n",
       "      <td>0.0</td>\n",
       "      <td>1.0</td>\n",
       "    </tr>\n",
       "    <tr>\n",
       "      <th>2</th>\n",
       "      <td>AAPL</td>\n",
       "      <td>2016-04-12 00:00:00+00:00</td>\n",
       "      <td>110.44</td>\n",
       "      <td>110.50</td>\n",
       "      <td>108.66</td>\n",
       "      <td>109.34</td>\n",
       "      <td>27232325</td>\n",
       "      <td>25.675835</td>\n",
       "      <td>25.689784</td>\n",
       "      <td>25.262009</td>\n",
       "      <td>25.420100</td>\n",
       "      <td>108929300</td>\n",
       "      <td>0.0</td>\n",
       "      <td>1.0</td>\n",
       "    </tr>\n",
       "    <tr>\n",
       "      <th>3</th>\n",
       "      <td>AAPL</td>\n",
       "      <td>2016-04-13 00:00:00+00:00</td>\n",
       "      <td>112.04</td>\n",
       "      <td>112.34</td>\n",
       "      <td>110.80</td>\n",
       "      <td>110.80</td>\n",
       "      <td>33257316</td>\n",
       "      <td>26.047814</td>\n",
       "      <td>26.117560</td>\n",
       "      <td>25.759530</td>\n",
       "      <td>25.759530</td>\n",
       "      <td>133029264</td>\n",
       "      <td>0.0</td>\n",
       "      <td>1.0</td>\n",
       "    </tr>\n",
       "    <tr>\n",
       "      <th>4</th>\n",
       "      <td>AAPL</td>\n",
       "      <td>2016-04-14 00:00:00+00:00</td>\n",
       "      <td>112.10</td>\n",
       "      <td>112.39</td>\n",
       "      <td>111.33</td>\n",
       "      <td>111.62</td>\n",
       "      <td>25473923</td>\n",
       "      <td>26.061763</td>\n",
       "      <td>26.129184</td>\n",
       "      <td>25.882748</td>\n",
       "      <td>25.950169</td>\n",
       "      <td>101895692</td>\n",
       "      <td>0.0</td>\n",
       "      <td>1.0</td>\n",
       "    </tr>\n",
       "  </tbody>\n",
       "</table>\n",
       "</div>"
      ],
      "text/plain": [
       "  symbol                       date   close    high     low    open    volume  \\\n",
       "0   AAPL  2016-04-08 00:00:00+00:00  108.66  109.77  108.17  108.91  23581740   \n",
       "1   AAPL  2016-04-11 00:00:00+00:00  109.02  110.61  108.83  108.97  29407518   \n",
       "2   AAPL  2016-04-12 00:00:00+00:00  110.44  110.50  108.66  109.34  27232325   \n",
       "3   AAPL  2016-04-13 00:00:00+00:00  112.04  112.34  110.80  110.80  33257316   \n",
       "4   AAPL  2016-04-14 00:00:00+00:00  112.10  112.39  111.33  111.62  25473923   \n",
       "\n",
       "    adjClose    adjHigh     adjLow    adjOpen  adjVolume  divCash  splitFactor  \n",
       "0  25.262009  25.520069  25.148090  25.320130   94326960      0.0          1.0  \n",
       "1  25.345704  25.715358  25.301531  25.334080  117630072      0.0          1.0  \n",
       "2  25.675835  25.689784  25.262009  25.420100  108929300      0.0          1.0  \n",
       "3  26.047814  26.117560  25.759530  25.759530  133029264      0.0          1.0  \n",
       "4  26.061763  26.129184  25.882748  25.950169  101895692      0.0          1.0  "
      ]
     },
     "execution_count": 2,
     "metadata": {},
     "output_type": "execute_result"
    }
   ],
   "source": [
    "key=\"93f5e1b69f385b968e79168869023d3f2b7ac184\"\n",
    "#df = pdr.get_data_tiingo('AAPL', api_key=key)\n",
    "#df.to_csv('AAPL.csv')\n",
    "df=pd.read_csv('AAPL.csv')\n",
    "df.head()"
   ]
  },
  {
   "cell_type": "code",
   "execution_count": 3,
   "metadata": {},
   "outputs": [
    {
     "data": {
      "text/html": [
       "<div>\n",
       "<style scoped>\n",
       "    .dataframe tbody tr th:only-of-type {\n",
       "        vertical-align: middle;\n",
       "    }\n",
       "\n",
       "    .dataframe tbody tr th {\n",
       "        vertical-align: top;\n",
       "    }\n",
       "\n",
       "    .dataframe thead th {\n",
       "        text-align: right;\n",
       "    }\n",
       "</style>\n",
       "<table border=\"1\" class=\"dataframe\">\n",
       "  <thead>\n",
       "    <tr style=\"text-align: right;\">\n",
       "      <th></th>\n",
       "      <th>symbol</th>\n",
       "      <th>date</th>\n",
       "      <th>close</th>\n",
       "      <th>high</th>\n",
       "      <th>low</th>\n",
       "      <th>open</th>\n",
       "      <th>volume</th>\n",
       "      <th>adjClose</th>\n",
       "      <th>adjHigh</th>\n",
       "      <th>adjLow</th>\n",
       "      <th>adjOpen</th>\n",
       "      <th>adjVolume</th>\n",
       "      <th>divCash</th>\n",
       "      <th>splitFactor</th>\n",
       "    </tr>\n",
       "  </thead>\n",
       "  <tbody>\n",
       "    <tr>\n",
       "      <th>1252</th>\n",
       "      <td>AAPL</td>\n",
       "      <td>2021-03-30 00:00:00+00:00</td>\n",
       "      <td>119.90</td>\n",
       "      <td>120.4031</td>\n",
       "      <td>118.86</td>\n",
       "      <td>120.11</td>\n",
       "      <td>85671919</td>\n",
       "      <td>119.90</td>\n",
       "      <td>120.4031</td>\n",
       "      <td>118.86</td>\n",
       "      <td>120.11</td>\n",
       "      <td>85671919</td>\n",
       "      <td>0.0</td>\n",
       "      <td>1.0</td>\n",
       "    </tr>\n",
       "    <tr>\n",
       "      <th>1253</th>\n",
       "      <td>AAPL</td>\n",
       "      <td>2021-03-31 00:00:00+00:00</td>\n",
       "      <td>122.15</td>\n",
       "      <td>123.5200</td>\n",
       "      <td>121.15</td>\n",
       "      <td>121.65</td>\n",
       "      <td>118323826</td>\n",
       "      <td>122.15</td>\n",
       "      <td>123.5200</td>\n",
       "      <td>121.15</td>\n",
       "      <td>121.65</td>\n",
       "      <td>118323826</td>\n",
       "      <td>0.0</td>\n",
       "      <td>1.0</td>\n",
       "    </tr>\n",
       "    <tr>\n",
       "      <th>1254</th>\n",
       "      <td>AAPL</td>\n",
       "      <td>2021-04-01 00:00:00+00:00</td>\n",
       "      <td>123.00</td>\n",
       "      <td>124.1800</td>\n",
       "      <td>122.49</td>\n",
       "      <td>123.66</td>\n",
       "      <td>75089134</td>\n",
       "      <td>123.00</td>\n",
       "      <td>124.1800</td>\n",
       "      <td>122.49</td>\n",
       "      <td>123.66</td>\n",
       "      <td>75089134</td>\n",
       "      <td>0.0</td>\n",
       "      <td>1.0</td>\n",
       "    </tr>\n",
       "    <tr>\n",
       "      <th>1255</th>\n",
       "      <td>AAPL</td>\n",
       "      <td>2021-04-05 00:00:00+00:00</td>\n",
       "      <td>125.90</td>\n",
       "      <td>126.1601</td>\n",
       "      <td>123.07</td>\n",
       "      <td>123.87</td>\n",
       "      <td>88651175</td>\n",
       "      <td>125.90</td>\n",
       "      <td>126.1601</td>\n",
       "      <td>123.07</td>\n",
       "      <td>123.87</td>\n",
       "      <td>88651175</td>\n",
       "      <td>0.0</td>\n",
       "      <td>1.0</td>\n",
       "    </tr>\n",
       "    <tr>\n",
       "      <th>1256</th>\n",
       "      <td>AAPL</td>\n",
       "      <td>2021-04-06 00:00:00+00:00</td>\n",
       "      <td>126.21</td>\n",
       "      <td>127.1300</td>\n",
       "      <td>125.65</td>\n",
       "      <td>126.50</td>\n",
       "      <td>80171253</td>\n",
       "      <td>126.21</td>\n",
       "      <td>127.1300</td>\n",
       "      <td>125.65</td>\n",
       "      <td>126.50</td>\n",
       "      <td>80171253</td>\n",
       "      <td>0.0</td>\n",
       "      <td>1.0</td>\n",
       "    </tr>\n",
       "  </tbody>\n",
       "</table>\n",
       "</div>"
      ],
      "text/plain": [
       "     symbol                       date   close      high     low    open  \\\n",
       "1252   AAPL  2021-03-30 00:00:00+00:00  119.90  120.4031  118.86  120.11   \n",
       "1253   AAPL  2021-03-31 00:00:00+00:00  122.15  123.5200  121.15  121.65   \n",
       "1254   AAPL  2021-04-01 00:00:00+00:00  123.00  124.1800  122.49  123.66   \n",
       "1255   AAPL  2021-04-05 00:00:00+00:00  125.90  126.1601  123.07  123.87   \n",
       "1256   AAPL  2021-04-06 00:00:00+00:00  126.21  127.1300  125.65  126.50   \n",
       "\n",
       "         volume  adjClose   adjHigh  adjLow  adjOpen  adjVolume  divCash  \\\n",
       "1252   85671919    119.90  120.4031  118.86   120.11   85671919      0.0   \n",
       "1253  118323826    122.15  123.5200  121.15   121.65  118323826      0.0   \n",
       "1254   75089134    123.00  124.1800  122.49   123.66   75089134      0.0   \n",
       "1255   88651175    125.90  126.1601  123.07   123.87   88651175      0.0   \n",
       "1256   80171253    126.21  127.1300  125.65   126.50   80171253      0.0   \n",
       "\n",
       "      splitFactor  \n",
       "1252          1.0  \n",
       "1253          1.0  \n",
       "1254          1.0  \n",
       "1255          1.0  \n",
       "1256          1.0  "
      ]
     },
     "execution_count": 3,
     "metadata": {},
     "output_type": "execute_result"
    }
   ],
   "source": [
    "df.tail()"
   ]
  },
  {
   "cell_type": "code",
   "execution_count": 4,
   "metadata": {},
   "outputs": [],
   "source": [
    "df1=df['close']"
   ]
  },
  {
   "cell_type": "code",
   "execution_count": 5,
   "metadata": {},
   "outputs": [
    {
     "data": {
      "text/plain": [
       "0       108.66\n",
       "1       109.02\n",
       "2       110.44\n",
       "3       112.04\n",
       "4       112.10\n",
       "         ...  \n",
       "1252    119.90\n",
       "1253    122.15\n",
       "1254    123.00\n",
       "1255    125.90\n",
       "1256    126.21\n",
       "Name: close, Length: 1257, dtype: float64"
      ]
     },
     "execution_count": 5,
     "metadata": {},
     "output_type": "execute_result"
    }
   ],
   "source": [
    "df1"
   ]
  },
  {
   "cell_type": "code",
   "execution_count": 6,
   "metadata": {},
   "outputs": [
    {
     "data": {
      "text/plain": [
       "[<matplotlib.lines.Line2D at 0x7f5569422a00>]"
      ]
     },
     "execution_count": 6,
     "metadata": {},
     "output_type": "execute_result"
    },
    {
     "data": {
      "image/png": "[encoded data removed]",
      "text/plain": [
       "<Figure size 432x288 with 1 Axes>"
      ]
     },
     "metadata": {
      "needs_background": "light"
     },
     "output_type": "display_data"
    }
   ],
   "source": [
    "%matplotlib inline\n",
    "plt.plot(df1)"
   ]
  },
  {
   "cell_type": "markdown",
   "metadata": {},
   "source": [
    "# Data preprocessing"
   ]
  },
  {
   "cell_type": "code",
   "execution_count": 7,
   "metadata": {},
   "outputs": [],
   "source": [
    "scaler=MinMaxScaler(feature_range=(0,1))\n",
    "df1=scaler.fit_transform(np.array(df1).reshape(-1,1))"
   ]
  },
  {
   "cell_type": "code",
   "execution_count": 8,
   "metadata": {},
   "outputs": [
    {
     "data": {
      "text/plain": [
       "array([[0.04406494],\n",
       "       [0.04493085],\n",
       "       [0.04834636],\n",
       "       ...,\n",
       "       [0.07855683],\n",
       "       [0.08553217],\n",
       "       [0.08627781]])"
      ]
     },
     "execution_count": 8,
     "metadata": {},
     "output_type": "execute_result"
    }
   ],
   "source": [
    "df1"
   ]
  },
  {
   "cell_type": "code",
   "execution_count": 9,
   "metadata": {},
   "outputs": [],
   "source": [
    "X_train, X_test = train_test_split(df1, test_size=0.33, random_state=42)"
   ]
  },
  {
   "cell_type": "code",
   "execution_count": 10,
   "metadata": {},
   "outputs": [],
   "source": [
    "x_train_data =X_train"
   ]
  },
  {
   "cell_type": "code",
   "execution_count": 11,
   "metadata": {},
   "outputs": [],
   "source": [
    "x_test_data = X_test"
   ]
  },
  {
   "cell_type": "code",
   "execution_count": 12,
   "metadata": {},
   "outputs": [
    {
     "data": {
      "text/plain": [
       "(842, 1)"
      ]
     },
     "execution_count": 12,
     "metadata": {},
     "output_type": "execute_result"
    }
   ],
   "source": [
    "x_train_data.shape"
   ]
  },
  {
   "cell_type": "code",
   "execution_count": 13,
   "metadata": {},
   "outputs": [
    {
     "data": {
      "text/plain": [
       "(415, 1)"
      ]
     },
     "execution_count": 13,
     "metadata": {},
     "output_type": "execute_result"
    }
   ],
   "source": [
    "x_test_data.shape"
   ]
  },
  {
   "cell_type": "code",
   "execution_count": 14,
   "metadata": {},
   "outputs": [],
   "source": [
    "def create_dataset(dataset, time_step=1):\n",
    "    dataX, dataY = [], []\n",
    "    for i in range(len(dataset)-time_step-1):\n",
    "        a = dataset[i:(i+time_step), 0]   ###i=0, 0,1,2,3-----99   100 \n",
    "        dataX.append(a)\n",
    "        dataY.append(dataset[i + time_step, 0])\n",
    "    return np.array(dataX), np.array(dataY)"
   ]
  },
  {
   "cell_type": "code",
   "execution_count": 15,
   "metadata": {},
   "outputs": [],
   "source": [
    "time_step = 100\n",
    "X_train, y_train = create_dataset(x_train_data, time_step)\n",
    "X_test, y_test = create_dataset(x_test_data, time_step)"
   ]
  },
  {
   "cell_type": "code",
   "execution_count": 16,
   "metadata": {},
   "outputs": [
    {
     "name": "stdout",
     "output_type": "stream",
     "text": [
      "(741, 100)\n",
      "(741,)\n"
     ]
    },
    {
     "data": {
      "text/plain": [
       "(None, None)"
      ]
     },
     "execution_count": 16,
     "metadata": {},
     "output_type": "execute_result"
    }
   ],
   "source": [
    "print(X_train.shape), print(y_train.shape)"
   ]
  },
  {
   "cell_type": "code",
   "execution_count": 19,
   "metadata": {},
   "outputs": [
    {
     "data": {
      "text/plain": [
       "array([[0.53156945, 0.10746843, 0.21224293, ..., 0.06354781, 0.06316296,\n",
       "        0.05943476],\n",
       "       [0.10746843, 0.21224293, 0.00757667, ..., 0.06316296, 0.05943476,\n",
       "        0.03401082],\n",
       "       [0.21224293, 0.00757667, 0.10010824, ..., 0.05943476, 0.03401082,\n",
       "        0.31160553],\n",
       "       ...,\n",
       "       [0.62871918, 0.45585087, 0.23648827, ..., 0.17799158, 0.05253157,\n",
       "        0.56043295],\n",
       "       [0.45585087, 0.23648827, 0.07126879, ..., 0.05253157, 0.56043295,\n",
       "        0.88923632],\n",
       "       [0.23648827, 0.07126879, 0.06525556, ..., 0.56043295, 0.88923632,\n",
       "        0.05455201]])"
      ]
     },
     "execution_count": 19,
     "metadata": {},
     "output_type": "execute_result"
    }
   ],
   "source": [
    "X_train"
   ]
  },
  {
   "cell_type": "code",
   "execution_count": 20,
   "metadata": {},
   "outputs": [],
   "source": [
    "X_train =X_train.reshape(X_train.shape[0],X_train.shape[1] , 1)\n",
    "X_test = X_test.reshape(X_test.shape[0],X_test.shape[1] , 1)"
   ]
  },
  {
   "cell_type": "code",
   "execution_count": 21,
   "metadata": {},
   "outputs": [],
   "source": [
    "from tensorflow.keras.models import Sequential\n",
    "from tensorflow.keras.layers import Dense\n",
    "from tensorflow.keras.layers import LSTM"
   ]
  },
  {
   "cell_type": "code",
   "execution_count": 22,
   "metadata": {},
   "outputs": [],
   "source": [
    "model=Sequential()\n",
    "model.add(LSTM(50,return_sequences=True,input_shape=(100,1)))\n",
    "model.add(LSTM(50,return_sequences=True))\n",
    "model.add(LSTM(50))\n",
    "model.add(Dense(1))\n",
    "model.compile(loss='mean_squared_error',optimizer='adam')"
   ]
  },
  {
   "cell_type": "code",
   "execution_count": 23,
   "metadata": {},
   "outputs": [
    {
     "name": "stdout",
     "output_type": "stream",
     "text": [
      "Model: \"sequential\"\n",
      "_________________________________________________________________\n",
      "Layer (type)                 Output Shape              Param #   \n",
      "=================================================================\n",
      "lstm (LSTM)                  (None, 100, 50)           10400     \n",
      "_________________________________________________________________\n",
      "lstm_1 (LSTM)                (None, 100, 50)           20200     \n",
      "_________________________________________________________________\n",
      "lstm_2 (LSTM)                (None, 50)                20200     \n",
      "_________________________________________________________________\n",
      "dense (Dense)                (None, 1)                 51        \n",
      "=================================================================\n",
      "Total params: 50,851\n",
      "Trainable params: 50,851\n",
      "Non-trainable params: 0\n",
      "_________________________________________________________________\n"
     ]
    }
   ],
   "source": [
    "model.summary()"
   ]
  },
  {
   "cell_type": "code",
   "execution_count": 25,
   "metadata": {},
   "outputs": [
    {
     "name": "stdout",
     "output_type": "stream",
     "text": [
      "Epoch 1/100\n",
      "12/12 [==============================] - 5s 150ms/step - loss: 0.0585 - val_loss: 0.0268\n",
      "Epoch 2/100\n",
      "12/12 [==============================] - 1s 80ms/step - loss: 0.0323 - val_loss: 0.0267\n",
      "Epoch 3/100\n",
      "12/12 [==============================] - 1s 82ms/step - loss: 0.0369 - val_loss: 0.0270\n",
      "Epoch 4/100\n",
      "12/12 [==============================] - 1s 82ms/step - loss: 0.0355 - val_loss: 0.0265\n",
      "Epoch 5/100\n",
      "12/12 [==============================] - 1s 101ms/step - loss: 0.0341 - val_loss: 0.0265\n",
      "Epoch 6/100\n",
      "12/12 [==============================] - 1s 107ms/step - loss: 0.0349 - val_loss: 0.0264\n",
      "Epoch 7/100\n",
      "12/12 [==============================] - 1s 104ms/step - loss: 0.0307 - val_loss: 0.0264\n",
      "Epoch 8/100\n",
      "12/12 [==============================] - 1s 108ms/step - loss: 0.0339 - val_loss: 0.0264\n",
      "Epoch 9/100\n",
      "12/12 [==============================] - 1s 101ms/step - loss: 0.0312 - val_loss: 0.0264\n",
      "Epoch 10/100\n",
      "12/12 [==============================] - 1s 103ms/step - loss: 0.0362 - val_loss: 0.0264\n",
      "Epoch 11/100\n",
      "12/12 [==============================] - 1s 95ms/step - loss: 0.0329 - val_loss: 0.0265\n",
      "Epoch 12/100\n",
      "12/12 [==============================] - 1s 87ms/step - loss: 0.0350 - val_loss: 0.0265\n",
      "Epoch 13/100\n",
      "12/12 [==============================] - 1s 81ms/step - loss: 0.0314 - val_loss: 0.0265\n",
      "Epoch 14/100\n",
      "12/12 [==============================] - 1s 82ms/step - loss: 0.0335 - val_loss: 0.0264\n",
      "Epoch 15/100\n",
      "12/12 [==============================] - 1s 93ms/step - loss: 0.0329 - val_loss: 0.0263\n",
      "Epoch 16/100\n",
      "12/12 [==============================] - 1s 82ms/step - loss: 0.0320 - val_loss: 0.0263\n",
      "Epoch 17/100\n",
      "12/12 [==============================] - 1s 82ms/step - loss: 0.0360 - val_loss: 0.0263\n",
      "Epoch 18/100\n",
      "12/12 [==============================] - 1s 83ms/step - loss: 0.0329 - val_loss: 0.0263\n",
      "Epoch 19/100\n",
      "12/12 [==============================] - 1s 82ms/step - loss: 0.0327 - val_loss: 0.0262\n",
      "Epoch 20/100\n",
      "12/12 [==============================] - 1s 82ms/step - loss: 0.0340 - val_loss: 0.0262\n",
      "Epoch 21/100\n",
      "12/12 [==============================] - 1s 93ms/step - loss: 0.0339 - val_loss: 0.0262\n",
      "Epoch 22/100\n",
      "12/12 [==============================] - 1s 83ms/step - loss: 0.0329 - val_loss: 0.0262\n",
      "Epoch 23/100\n",
      "12/12 [==============================] - 1s 83ms/step - loss: 0.0343 - val_loss: 0.0262\n",
      "Epoch 24/100\n",
      "12/12 [==============================] - 1s 81ms/step - loss: 0.0344 - val_loss: 0.0262\n",
      "Epoch 25/100\n",
      "12/12 [==============================] - 1s 83ms/step - loss: 0.0378 - val_loss: 0.0272\n",
      "Epoch 26/100\n",
      "12/12 [==============================] - 1s 82ms/step - loss: 0.0374 - val_loss: 0.0265\n",
      "Epoch 27/100\n",
      "12/12 [==============================] - 1s 86ms/step - loss: 0.0347 - val_loss: 0.0263\n",
      "Epoch 28/100\n",
      "12/12 [==============================] - 1s 90ms/step - loss: 0.0351 - val_loss: 0.0263\n",
      "Epoch 29/100\n",
      "12/12 [==============================] - 1s 82ms/step - loss: 0.0342 - val_loss: 0.0263\n",
      "Epoch 30/100\n",
      "12/12 [==============================] - 1s 82ms/step - loss: 0.0348 - val_loss: 0.0265\n",
      "Epoch 31/100\n",
      "12/12 [==============================] - 1s 111ms/step - loss: 0.0339 - val_loss: 0.0273\n",
      "Epoch 32/100\n",
      "12/12 [==============================] - 1s 81ms/step - loss: 0.0344 - val_loss: 0.0290\n",
      "Epoch 33/100\n",
      "12/12 [==============================] - 1s 82ms/step - loss: 0.0315 - val_loss: 0.0269\n",
      "Epoch 34/100\n",
      "12/12 [==============================] - 1s 82ms/step - loss: 0.0381 - val_loss: 0.0274\n",
      "Epoch 35/100\n",
      "12/12 [==============================] - 1s 88ms/step - loss: 0.0356 - val_loss: 0.0285\n",
      "Epoch 36/100\n",
      "12/12 [==============================] - 1s 81ms/step - loss: 0.0355 - val_loss: 0.0287\n",
      "Epoch 37/100\n",
      "12/12 [==============================] - 1s 82ms/step - loss: 0.0315 - val_loss: 0.0272\n",
      "Epoch 38/100\n",
      "12/12 [==============================] - 1s 82ms/step - loss: 0.0320 - val_loss: 0.0295\n",
      "Epoch 39/100\n",
      "12/12 [==============================] - 1s 82ms/step - loss: 0.0302 - val_loss: 0.0303\n",
      "Epoch 40/100\n",
      "12/12 [==============================] - 1s 92ms/step - loss: 0.0321 - val_loss: 0.0266\n",
      "Epoch 41/100\n",
      "12/12 [==============================] - 1s 92ms/step - loss: 0.0351 - val_loss: 0.0271\n",
      "Epoch 42/100\n",
      "12/12 [==============================] - 1s 99ms/step - loss: 0.0328 - val_loss: 0.0269\n",
      "Epoch 43/100\n",
      "12/12 [==============================] - 1s 108ms/step - loss: 0.0314 - val_loss: 0.0274\n",
      "Epoch 44/100\n",
      "12/12 [==============================] - 1s 82ms/step - loss: 0.0330 - val_loss: 0.0284\n",
      "Epoch 45/100\n",
      "12/12 [==============================] - 1s 83ms/step - loss: 0.0330 - val_loss: 0.0278\n",
      "Epoch 46/100\n",
      "12/12 [==============================] - 1s 82ms/step - loss: 0.0335 - val_loss: 0.0291\n",
      "Epoch 47/100\n",
      "12/12 [==============================] - 1s 82ms/step - loss: 0.0356 - val_loss: 0.0297\n",
      "Epoch 48/100\n",
      "12/12 [==============================] - 1s 83ms/step - loss: 0.0383 - val_loss: 0.0284\n",
      "Epoch 49/100\n",
      "12/12 [==============================] - 1s 90ms/step - loss: 0.0295 - val_loss: 0.0378\n",
      "Epoch 50/100\n",
      "12/12 [==============================] - 1s 82ms/step - loss: 0.0344 - val_loss: 0.0270\n",
      "Epoch 51/100\n",
      "12/12 [==============================] - 1s 82ms/step - loss: 0.0333 - val_loss: 0.0273\n",
      "Epoch 52/100\n",
      "12/12 [==============================] - 1s 82ms/step - loss: 0.0352 - val_loss: 0.0287\n",
      "Epoch 53/100\n",
      "12/12 [==============================] - 1s 82ms/step - loss: 0.0319 - val_loss: 0.0265\n",
      "Epoch 54/100\n",
      "12/12 [==============================] - 1s 94ms/step - loss: 0.0346 - val_loss: 0.0266\n",
      "Epoch 55/100\n",
      "12/12 [==============================] - 1s 107ms/step - loss: 0.0359 - val_loss: 0.0270\n",
      "Epoch 56/100\n",
      "12/12 [==============================] - 1s 90ms/step - loss: 0.0330 - val_loss: 0.0272\n",
      "Epoch 57/100\n",
      "12/12 [==============================] - 1s 83ms/step - loss: 0.0346 - val_loss: 0.0283\n",
      "Epoch 58/100\n",
      "12/12 [==============================] - 1s 107ms/step - loss: 0.0353 - val_loss: 0.0300\n",
      "Epoch 59/100\n",
      "12/12 [==============================] - 1s 86ms/step - loss: 0.0304 - val_loss: 0.0302\n",
      "Epoch 60/100\n",
      "12/12 [==============================] - 1s 88ms/step - loss: 0.0303 - val_loss: 0.0289\n",
      "Epoch 61/100\n",
      "12/12 [==============================] - 1s 84ms/step - loss: 0.0339 - val_loss: 0.0281\n",
      "Epoch 62/100\n",
      "12/12 [==============================] - 1s 90ms/step - loss: 0.0321 - val_loss: 0.0298\n",
      "Epoch 63/100\n",
      "12/12 [==============================] - 1s 84ms/step - loss: 0.0332 - val_loss: 0.0300\n",
      "Epoch 64/100\n",
      "12/12 [==============================] - 1s 82ms/step - loss: 0.0309 - val_loss: 0.0293\n",
      "Epoch 65/100\n",
      "12/12 [==============================] - 1s 86ms/step - loss: 0.0310 - val_loss: 0.0297\n",
      "Epoch 66/100\n",
      "12/12 [==============================] - 1s 88ms/step - loss: 0.0334 - val_loss: 0.0314\n",
      "Epoch 67/100\n",
      "12/12 [==============================] - 1s 82ms/step - loss: 0.0357 - val_loss: 0.0285\n",
      "Epoch 68/100\n",
      "12/12 [==============================] - 1s 90ms/step - loss: 0.0347 - val_loss: 0.0288\n",
      "Epoch 69/100\n",
      "12/12 [==============================] - 1s 86ms/step - loss: 0.0365 - val_loss: 0.0298\n",
      "Epoch 70/100\n",
      "12/12 [==============================] - 1s 87ms/step - loss: 0.0318 - val_loss: 0.0299\n",
      "Epoch 71/100\n",
      "12/12 [==============================] - 1s 87ms/step - loss: 0.0356 - val_loss: 0.0301\n",
      "Epoch 72/100\n",
      "12/12 [==============================] - 1s 88ms/step - loss: 0.0318 - val_loss: 0.0297\n",
      "Epoch 73/100\n",
      "12/12 [==============================] - 1s 85ms/step - loss: 0.0330 - val_loss: 0.0303\n",
      "Epoch 74/100\n",
      "12/12 [==============================] - 1s 87ms/step - loss: 0.0339 - val_loss: 0.0301\n",
      "Epoch 75/100\n",
      "12/12 [==============================] - 1s 90ms/step - loss: 0.0296 - val_loss: 0.0304\n",
      "Epoch 76/100\n",
      "12/12 [==============================] - 1s 81ms/step - loss: 0.0310 - val_loss: 0.0312\n",
      "Epoch 77/100\n",
      "12/12 [==============================] - 1s 91ms/step - loss: 0.0343 - val_loss: 0.0291\n",
      "Epoch 78/100\n",
      "12/12 [==============================] - 1s 82ms/step - loss: 0.0343 - val_loss: 0.0291\n",
      "Epoch 79/100\n",
      "12/12 [==============================] - 1s 93ms/step - loss: 0.0299 - val_loss: 0.0329\n",
      "Epoch 80/100\n",
      "12/12 [==============================] - 1s 102ms/step - loss: 0.0323 - val_loss: 0.0334\n",
      "Epoch 81/100\n",
      "12/12 [==============================] - 1s 106ms/step - loss: 0.0306 - val_loss: 0.0315\n",
      "Epoch 82/100\n"
     ]
    },
    {
     "name": "stdout",
     "output_type": "stream",
     "text": [
      "12/12 [==============================] - 1s 104ms/step - loss: 0.0349 - val_loss: 0.0288\n",
      "Epoch 83/100\n",
      "12/12 [==============================] - 1s 101ms/step - loss: 0.0353 - val_loss: 0.0335\n",
      "Epoch 84/100\n",
      "12/12 [==============================] - 1s 91ms/step - loss: 0.0304 - val_loss: 0.0290\n",
      "Epoch 85/100\n",
      "12/12 [==============================] - 1s 104ms/step - loss: 0.0319 - val_loss: 0.0275\n",
      "Epoch 86/100\n",
      "12/12 [==============================] - 1s 105ms/step - loss: 0.0330 - val_loss: 0.0342\n",
      "Epoch 87/100\n",
      "12/12 [==============================] - 1s 108ms/step - loss: 0.0353 - val_loss: 0.0311\n",
      "Epoch 88/100\n",
      "12/12 [==============================] - 1s 86ms/step - loss: 0.0314 - val_loss: 0.0289\n",
      "Epoch 89/100\n",
      "12/12 [==============================] - 1s 94ms/step - loss: 0.0378 - val_loss: 0.0316\n",
      "Epoch 90/100\n",
      "12/12 [==============================] - 1s 85ms/step - loss: 0.0305 - val_loss: 0.0313\n",
      "Epoch 91/100\n",
      "12/12 [==============================] - 1s 88ms/step - loss: 0.0295 - val_loss: 0.0299\n",
      "Epoch 92/100\n",
      "12/12 [==============================] - 1s 98ms/step - loss: 0.0312 - val_loss: 0.0296\n",
      "Epoch 93/100\n",
      "12/12 [==============================] - 1s 88ms/step - loss: 0.0302 - val_loss: 0.0333\n",
      "Epoch 94/100\n",
      "12/12 [==============================] - 1s 84ms/step - loss: 0.0331 - val_loss: 0.0298\n",
      "Epoch 95/100\n",
      "12/12 [==============================] - 1s 79ms/step - loss: 0.0314 - val_loss: 0.0323\n",
      "Epoch 96/100\n",
      "12/12 [==============================] - 1s 76ms/step - loss: 0.0315 - val_loss: 0.0282\n",
      "Epoch 97/100\n",
      "12/12 [==============================] - 1s 77ms/step - loss: 0.0368 - val_loss: 0.0271\n",
      "Epoch 98/100\n",
      "12/12 [==============================] - 1s 85ms/step - loss: 0.0307 - val_loss: 0.0300\n",
      "Epoch 99/100\n",
      "12/12 [==============================] - 1s 77ms/step - loss: 0.0335 - val_loss: 0.0343\n",
      "Epoch 100/100\n",
      "12/12 [==============================] - 1s 76ms/step - loss: 0.0346 - val_loss: 0.0303\n"
     ]
    },
    {
     "data": {
      "text/plain": [
       "<tensorflow.python.keras.callbacks.History at 0x7f5534443ca0>"
      ]
     },
     "execution_count": 25,
     "metadata": {},
     "output_type": "execute_result"
    }
   ],
   "source": [
    "model.fit(X_train,y_train,validation_data=(X_test,y_test),epochs=100,batch_size=64,verbose=1)"
   ]
  },
  {
   "cell_type": "code",
   "execution_count": 26,
   "metadata": {},
   "outputs": [],
   "source": [
    "train_predict=model.predict(X_train)\n",
    "test_predict=model.predict(X_test)"
   ]
  },
  {
   "cell_type": "code",
   "execution_count": 28,
   "metadata": {},
   "outputs": [],
   "source": [
    "train_predict=scaler.inverse_transform(train_predict)\n",
    "test_predict=scaler.inverse_transform(test_predict)"
   ]
  },
  {
   "cell_type": "code",
   "execution_count": 29,
   "metadata": {},
   "outputs": [
    {
     "data": {
      "text/plain": [
       "181.89890750411587"
      ]
     },
     "execution_count": 29,
     "metadata": {},
     "output_type": "execute_result"
    }
   ],
   "source": [
    "import math\n",
    "from sklearn.metrics import mean_squared_error\n",
    "math.sqrt(mean_squared_error(y_train,train_predict))"
   ]
  },
  {
   "cell_type": "code",
   "execution_count": 31,
   "metadata": {},
   "outputs": [
    {
     "data": {
      "text/plain": [
       "180.38754019977316"
      ]
     },
     "execution_count": 31,
     "metadata": {},
     "output_type": "execute_result"
    }
   ],
   "source": [
    "math.sqrt(mean_squared_error(y_test,test_predict))"
   ]
  },
  {
   "cell_type": "code",
   "execution_count": 33,
   "metadata": {},
   "outputs": [
    {
     "data": {
      "image/png": "[encoded data removed]",
      "text/plain": [
       "<Figure size 432x288 with 1 Axes>"
      ]
     },
     "metadata": {
      "needs_background": "light"
     },
     "output_type": "display_data"
    }
   ],
   "source": [
    "\n",
    "look_back=100\n",
    "trainPredictPlot = np.empty_like(df1)\n",
    "trainPredictPlot[:, :] = np.nan\n",
    "trainPredictPlot[look_back:len(train_predict)+look_back, :] = train_predict\n",
    "\n",
    "testPredictPlot = np.empty_like(df1)\n",
    "testPredictPlot[:, :] = np.nan\n",
    "testPredictPlot[len(train_predict)+(look_back*2)+1:len(df1)-1, :] = test_predict\n",
    "\n",
    "plt.plot(scaler.inverse_transform(df1))\n",
    "plt.plot(trainPredictPlot)\n",
    "plt.plot(testPredictPlot)\n",
    "plt.show()"
   ]
  },
  {
   "cell_type": "code",
   "execution_count": null,
   "metadata": {},
   "outputs": [],
   "source": []
  }
 ],
 "metadata": {
  "kernelspec": {
   "display_name": "Python 3",
   "language": "python",
   "name": "python3"
  },
  "language_info": {
   "codemirror_mode": {
    "name": "ipython",
    "version": 3
   },
   "file_extension": ".py",
   "mimetype": "text/x-python",
   "name": "python",
   "nbconvert_exporter": "python",
   "pygments_lexer": "ipython3",
   "version": "3.8.3"
  }
 },
 "nbformat": 4,
 "nbformat_minor": 4
}
