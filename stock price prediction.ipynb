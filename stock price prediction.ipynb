{
 "cells": [
  {
   "cell_type": "markdown",
   "metadata": {},
   "source": [
    "# Importing Section"
   ]
  },
  {
   "cell_type": "code",
   "execution_count": 1,
   "metadata": {},
   "outputs": [],
   "source": [
    "import pandas_datareader as pdr\n",
    "import pandas as pd\n",
    "import matplotlib.pyplot as plt\n",
    "%matplotlib inline\n",
    "import numpy as np\n",
    "from sklearn.preprocessing import MinMaxScaler\n",
    "from sklearn.model_selection import train_test_split"
   ]
  },
  {
   "cell_type": "markdown",
   "metadata": {},
   "source": [
    "# Data Collection"
   ]
  },
  {
   "cell_type": "code",
   "execution_count": 2,
   "metadata": {},
   "outputs": [
    {
     "data": {
      "text/html": [
       "<div>\n",
       "<style scoped>\n",
       "    .dataframe tbody tr th:only-of-type {\n",
       "        vertical-align: middle;\n",
       "    }\n",
       "\n",
       "    .dataframe tbody tr th {\n",
       "        vertical-align: top;\n",
       "    }\n",
       "\n",
       "    .dataframe thead th {\n",
       "        text-align: right;\n",
       "    }\n",
       "</style>\n",
       "<table border=\"1\" class=\"dataframe\">\n",
       "  <thead>\n",
       "    <tr style=\"text-align: right;\">\n",
       "      <th></th>\n",
       "      <th>symbol</th>\n",
       "      <th>date</th>\n",
       "      <th>close</th>\n",
       "      <th>high</th>\n",
       "      <th>low</th>\n",
       "      <th>open</th>\n",
       "      <th>volume</th>\n",
       "      <th>adjClose</th>\n",
       "      <th>adjHigh</th>\n",
       "      <th>adjLow</th>\n",
       "      <th>adjOpen</th>\n",
       "      <th>adjVolume</th>\n",
       "      <th>divCash</th>\n",
       "      <th>splitFactor</th>\n",
       "    </tr>\n",
       "  </thead>\n",
       "  <tbody>\n",
       "    <tr>\n",
       "      <th>0</th>\n",
       "      <td>AAPL</td>\n",
       "      <td>2016-04-07 00:00:00+00:00</td>\n",
       "      <td>108.54</td>\n",
       "      <td>110.42</td>\n",
       "      <td>108.121</td>\n",
       "      <td>109.95</td>\n",
       "      <td>31801870</td>\n",
       "      <td>25.234110</td>\n",
       "      <td>25.671185</td>\n",
       "      <td>25.136698</td>\n",
       "      <td>25.561917</td>\n",
       "      <td>127207480</td>\n",
       "      <td>0.0</td>\n",
       "      <td>1.0</td>\n",
       "    </tr>\n",
       "    <tr>\n",
       "      <th>1</th>\n",
       "      <td>AAPL</td>\n",
       "      <td>2016-04-08 00:00:00+00:00</td>\n",
       "      <td>108.66</td>\n",
       "      <td>109.77</td>\n",
       "      <td>108.170</td>\n",
       "      <td>108.91</td>\n",
       "      <td>23581740</td>\n",
       "      <td>25.262009</td>\n",
       "      <td>25.520069</td>\n",
       "      <td>25.148090</td>\n",
       "      <td>25.320130</td>\n",
       "      <td>94326960</td>\n",
       "      <td>0.0</td>\n",
       "      <td>1.0</td>\n",
       "    </tr>\n",
       "    <tr>\n",
       "      <th>2</th>\n",
       "      <td>AAPL</td>\n",
       "      <td>2016-04-11 00:00:00+00:00</td>\n",
       "      <td>109.02</td>\n",
       "      <td>110.61</td>\n",
       "      <td>108.830</td>\n",
       "      <td>108.97</td>\n",
       "      <td>29407518</td>\n",
       "      <td>25.345704</td>\n",
       "      <td>25.715358</td>\n",
       "      <td>25.301531</td>\n",
       "      <td>25.334080</td>\n",
       "      <td>117630072</td>\n",
       "      <td>0.0</td>\n",
       "      <td>1.0</td>\n",
       "    </tr>\n",
       "    <tr>\n",
       "      <th>3</th>\n",
       "      <td>AAPL</td>\n",
       "      <td>2016-04-12 00:00:00+00:00</td>\n",
       "      <td>110.44</td>\n",
       "      <td>110.50</td>\n",
       "      <td>108.660</td>\n",
       "      <td>109.34</td>\n",
       "      <td>27232325</td>\n",
       "      <td>25.675835</td>\n",
       "      <td>25.689784</td>\n",
       "      <td>25.262009</td>\n",
       "      <td>25.420100</td>\n",
       "      <td>108929300</td>\n",
       "      <td>0.0</td>\n",
       "      <td>1.0</td>\n",
       "    </tr>\n",
       "    <tr>\n",
       "      <th>4</th>\n",
       "      <td>AAPL</td>\n",
       "      <td>2016-04-13 00:00:00+00:00</td>\n",
       "      <td>112.04</td>\n",
       "      <td>112.34</td>\n",
       "      <td>110.800</td>\n",
       "      <td>110.80</td>\n",
       "      <td>33257316</td>\n",
       "      <td>26.047814</td>\n",
       "      <td>26.117560</td>\n",
       "      <td>25.759530</td>\n",
       "      <td>25.759530</td>\n",
       "      <td>133029264</td>\n",
       "      <td>0.0</td>\n",
       "      <td>1.0</td>\n",
       "    </tr>\n",
       "  </tbody>\n",
       "</table>\n",
       "</div>"
      ],
      "text/plain": [
       "  symbol                       date   close    high      low    open  \\\n",
       "0   AAPL  2016-04-07 00:00:00+00:00  108.54  110.42  108.121  109.95   \n",
       "1   AAPL  2016-04-08 00:00:00+00:00  108.66  109.77  108.170  108.91   \n",
       "2   AAPL  2016-04-11 00:00:00+00:00  109.02  110.61  108.830  108.97   \n",
       "3   AAPL  2016-04-12 00:00:00+00:00  110.44  110.50  108.660  109.34   \n",
       "4   AAPL  2016-04-13 00:00:00+00:00  112.04  112.34  110.800  110.80   \n",
       "\n",
       "     volume   adjClose    adjHigh     adjLow    adjOpen  adjVolume  divCash  \\\n",
       "0  31801870  25.234110  25.671185  25.136698  25.561917  127207480      0.0   \n",
       "1  23581740  25.262009  25.520069  25.148090  25.320130   94326960      0.0   \n",
       "2  29407518  25.345704  25.715358  25.301531  25.334080  117630072      0.0   \n",
       "3  27232325  25.675835  25.689784  25.262009  25.420100  108929300      0.0   \n",
       "4  33257316  26.047814  26.117560  25.759530  25.759530  133029264      0.0   \n",
       "\n",
       "   splitFactor  \n",
       "0          1.0  \n",
       "1          1.0  \n",
       "2          1.0  \n",
       "3          1.0  \n",
       "4          1.0  "
      ]
     },
     "execution_count": 2,
     "metadata": {},
     "output_type": "execute_result"
    }
   ],
   "source": [
    "#key=\"93f5e1b69f385b968e79168869023d3f2b7ac184\"\n",
    "#df = pdr.get_data_tiingo('AAPL', api_key=key)\n",
    "#df.to_csv('AAPL.csv')\n",
    "df=pd.read_csv('AAPL.csv')\n",
    "df.head()"
   ]
  },
  {
   "cell_type": "code",
   "execution_count": 3,
   "metadata": {},
   "outputs": [
    {
     "data": {
      "text/html": [
       "<div>\n",
       "<style scoped>\n",
       "    .dataframe tbody tr th:only-of-type {\n",
       "        vertical-align: middle;\n",
       "    }\n",
       "\n",
       "    .dataframe tbody tr th {\n",
       "        vertical-align: top;\n",
       "    }\n",
       "\n",
       "    .dataframe thead th {\n",
       "        text-align: right;\n",
       "    }\n",
       "</style>\n",
       "<table border=\"1\" class=\"dataframe\">\n",
       "  <thead>\n",
       "    <tr style=\"text-align: right;\">\n",
       "      <th></th>\n",
       "      <th>symbol</th>\n",
       "      <th>date</th>\n",
       "      <th>close</th>\n",
       "      <th>high</th>\n",
       "      <th>low</th>\n",
       "      <th>open</th>\n",
       "      <th>volume</th>\n",
       "      <th>adjClose</th>\n",
       "      <th>adjHigh</th>\n",
       "      <th>adjLow</th>\n",
       "      <th>adjOpen</th>\n",
       "      <th>adjVolume</th>\n",
       "      <th>divCash</th>\n",
       "      <th>splitFactor</th>\n",
       "    </tr>\n",
       "  </thead>\n",
       "  <tbody>\n",
       "    <tr>\n",
       "      <th>1252</th>\n",
       "      <td>AAPL</td>\n",
       "      <td>2021-03-29 00:00:00+00:00</td>\n",
       "      <td>121.39</td>\n",
       "      <td>122.5800</td>\n",
       "      <td>120.7299</td>\n",
       "      <td>121.65</td>\n",
       "      <td>80819203</td>\n",
       "      <td>121.39</td>\n",
       "      <td>122.5800</td>\n",
       "      <td>120.7299</td>\n",
       "      <td>121.65</td>\n",
       "      <td>80819203</td>\n",
       "      <td>0.0</td>\n",
       "      <td>1.0</td>\n",
       "    </tr>\n",
       "    <tr>\n",
       "      <th>1253</th>\n",
       "      <td>AAPL</td>\n",
       "      <td>2021-03-30 00:00:00+00:00</td>\n",
       "      <td>119.90</td>\n",
       "      <td>120.4031</td>\n",
       "      <td>118.8600</td>\n",
       "      <td>120.11</td>\n",
       "      <td>85671919</td>\n",
       "      <td>119.90</td>\n",
       "      <td>120.4031</td>\n",
       "      <td>118.8600</td>\n",
       "      <td>120.11</td>\n",
       "      <td>85671919</td>\n",
       "      <td>0.0</td>\n",
       "      <td>1.0</td>\n",
       "    </tr>\n",
       "    <tr>\n",
       "      <th>1254</th>\n",
       "      <td>AAPL</td>\n",
       "      <td>2021-03-31 00:00:00+00:00</td>\n",
       "      <td>122.15</td>\n",
       "      <td>123.5200</td>\n",
       "      <td>121.1500</td>\n",
       "      <td>121.65</td>\n",
       "      <td>118323826</td>\n",
       "      <td>122.15</td>\n",
       "      <td>123.5200</td>\n",
       "      <td>121.1500</td>\n",
       "      <td>121.65</td>\n",
       "      <td>118323826</td>\n",
       "      <td>0.0</td>\n",
       "      <td>1.0</td>\n",
       "    </tr>\n",
       "    <tr>\n",
       "      <th>1255</th>\n",
       "      <td>AAPL</td>\n",
       "      <td>2021-04-01 00:00:00+00:00</td>\n",
       "      <td>123.00</td>\n",
       "      <td>124.1800</td>\n",
       "      <td>122.4900</td>\n",
       "      <td>123.66</td>\n",
       "      <td>75089134</td>\n",
       "      <td>123.00</td>\n",
       "      <td>124.1800</td>\n",
       "      <td>122.4900</td>\n",
       "      <td>123.66</td>\n",
       "      <td>75089134</td>\n",
       "      <td>0.0</td>\n",
       "      <td>1.0</td>\n",
       "    </tr>\n",
       "    <tr>\n",
       "      <th>1256</th>\n",
       "      <td>AAPL</td>\n",
       "      <td>2021-04-05 00:00:00+00:00</td>\n",
       "      <td>125.90</td>\n",
       "      <td>126.1601</td>\n",
       "      <td>123.0700</td>\n",
       "      <td>123.87</td>\n",
       "      <td>88651175</td>\n",
       "      <td>125.90</td>\n",
       "      <td>126.1601</td>\n",
       "      <td>123.0700</td>\n",
       "      <td>123.87</td>\n",
       "      <td>88651175</td>\n",
       "      <td>0.0</td>\n",
       "      <td>1.0</td>\n",
       "    </tr>\n",
       "  </tbody>\n",
       "</table>\n",
       "</div>"
      ],
      "text/plain": [
       "     symbol                       date   close      high       low    open  \\\n",
       "1252   AAPL  2021-03-29 00:00:00+00:00  121.39  122.5800  120.7299  121.65   \n",
       "1253   AAPL  2021-03-30 00:00:00+00:00  119.90  120.4031  118.8600  120.11   \n",
       "1254   AAPL  2021-03-31 00:00:00+00:00  122.15  123.5200  121.1500  121.65   \n",
       "1255   AAPL  2021-04-01 00:00:00+00:00  123.00  124.1800  122.4900  123.66   \n",
       "1256   AAPL  2021-04-05 00:00:00+00:00  125.90  126.1601  123.0700  123.87   \n",
       "\n",
       "         volume  adjClose   adjHigh    adjLow  adjOpen  adjVolume  divCash  \\\n",
       "1252   80819203    121.39  122.5800  120.7299   121.65   80819203      0.0   \n",
       "1253   85671919    119.90  120.4031  118.8600   120.11   85671919      0.0   \n",
       "1254  118323826    122.15  123.5200  121.1500   121.65  118323826      0.0   \n",
       "1255   75089134    123.00  124.1800  122.4900   123.66   75089134      0.0   \n",
       "1256   88651175    125.90  126.1601  123.0700   123.87   88651175      0.0   \n",
       "\n",
       "      splitFactor  \n",
       "1252          1.0  \n",
       "1253          1.0  \n",
       "1254          1.0  \n",
       "1255          1.0  \n",
       "1256          1.0  "
      ]
     },
     "execution_count": 3,
     "metadata": {},
     "output_type": "execute_result"
    }
   ],
   "source": [
    "df.tail()"
   ]
  },
  {
   "cell_type": "code",
   "execution_count": 4,
   "metadata": {},
   "outputs": [],
   "source": [
    "df1=df['close']"
   ]
  },
  {
   "cell_type": "code",
   "execution_count": 5,
   "metadata": {},
   "outputs": [
    {
     "data": {
      "text/plain": [
       "0       108.54\n",
       "1       108.66\n",
       "2       109.02\n",
       "3       110.44\n",
       "4       112.04\n",
       "         ...  \n",
       "1252    121.39\n",
       "1253    119.90\n",
       "1254    122.15\n",
       "1255    123.00\n",
       "1256    125.90\n",
       "Name: close, Length: 1257, dtype: float64"
      ]
     },
     "execution_count": 5,
     "metadata": {},
     "output_type": "execute_result"
    }
   ],
   "source": [
    "df1"
   ]
  },
  {
   "cell_type": "code",
   "execution_count": 6,
   "metadata": {},
   "outputs": [
    {
     "data": {
      "text/plain": [
       "[<matplotlib.lines.Line2D at 0x7f627ac439d0>]"
      ]
     },
     "execution_count": 6,
     "metadata": {},
     "output_type": "execute_result"
    },
    {
     "data": {
      "image/png": "[encoded data removed]",
      "text/plain": [
       "<Figure size 432x288 with 1 Axes>"
      ]
     },
     "metadata": {
      "needs_background": "light"
     },
     "output_type": "display_data"
    }
   ],
   "source": [
    "%matplotlib inline\n",
    "plt.plot(df1)"
   ]
  },
  {
   "cell_type": "markdown",
   "metadata": {},
   "source": [
    "# Data preprocessing"
   ]
  },
  {
   "cell_type": "code",
   "execution_count": 7,
   "metadata": {},
   "outputs": [],
   "source": [
    "scaler=MinMaxScaler(feature_range=(0,1))\n",
    "df1=scaler.fit_transform(np.array(df1).reshape(-1,1))"
   ]
  },
  {
   "cell_type": "code",
   "execution_count": 8,
   "metadata": {},
   "outputs": [
    {
     "data": {
      "text/plain": [
       "array([[0.04377631],\n",
       "       [0.04406494],\n",
       "       [0.04493085],\n",
       "       ...,\n",
       "       [0.07651233],\n",
       "       [0.07855683],\n",
       "       [0.08553217]])"
      ]
     },
     "execution_count": 8,
     "metadata": {},
     "output_type": "execute_result"
    }
   ],
   "source": [
    "df1"
   ]
  },
  {
   "cell_type": "code",
   "execution_count": 10,
   "metadata": {},
   "outputs": [],
   "source": [
    "X_train, X_test = train_test_split(df1, test_size=0.33, random_state=42)"
   ]
  },
  {
   "cell_type": "code",
   "execution_count": 12,
   "metadata": {},
   "outputs": [
    {
     "data": {
      "text/plain": [
       "(842, 1)"
      ]
     },
     "execution_count": 12,
     "metadata": {},
     "output_type": "execute_result"
    }
   ],
   "source": [
    "X_train.shape"
   ]
  },
  {
   "cell_type": "code",
   "execution_count": 14,
   "metadata": {},
   "outputs": [
    {
     "data": {
      "text/plain": [
       "(415, 1)"
      ]
     },
     "execution_count": 14,
     "metadata": {},
     "output_type": "execute_result"
    }
   ],
   "source": [
    "X_test.shape"
   ]
  },
  {
   "cell_type": "code",
   "execution_count": null,
   "metadata": {},
   "outputs": [],
   "source": []
  }
 ],
 "metadata": {
  "kernelspec": {
   "display_name": "Python 3",
   "language": "python",
   "name": "python3"
  },
  "language_info": {
   "codemirror_mode": {
    "name": "ipython",
    "version": 3
   },
   "file_extension": ".py",
   "mimetype": "text/x-python",
   "name": "python",
   "nbconvert_exporter": "python",
   "pygments_lexer": "ipython3",
   "version": "3.8.3"
  }
 },
 "nbformat": 4,
 "nbformat_minor": 4
}
